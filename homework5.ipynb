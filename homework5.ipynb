{
 "cells": [
  {
   "cell_type": "markdown",
   "metadata": {},
   "source": [
    "#### Homework5"
   ]
  },
  {
   "cell_type": "markdown",
   "metadata": {},
   "source": [
    "##### ORB 대신 SIFT 사용"
   ]
  },
  {
   "cell_type": "code",
   "execution_count": 32,
   "metadata": {},
   "outputs": [],
   "source": [
    "import cv2\n",
    "import numpy as np"
   ]
  },
  {
   "cell_type": "code",
   "execution_count": 33,
   "metadata": {},
   "outputs": [],
   "source": [
    "img1 = cv2.imread(\"book.jpg\", cv2.IMREAD_GRAYSCALE)\n",
    "img2 = cv2.imread(\"me_holding_book.jpg\", cv2.IMREAD_GRAYSCALE)\n",
    "\n",
    "# SIFT 알고리즘 사용하여 키포인트, 디스크립터 추출\n",
    "sift = cv2.SIFT_create()\n",
    "kp1, des1 = sift.detectAndCompute(img1, None)\n",
    "kp2, des2 = sift.detectAndCompute(img2, None)"
   ]
  },
  {
   "cell_type": "code",
   "execution_count": null,
   "metadata": {},
   "outputs": [],
   "source": [
    "# BruteForce Matcher, SIFT는 NORM_L2가 적합하여 변경\n",
    "matcher = cv2.BFMatcher(cv2.NORM_L2, crossCheck=True)\n",
    "\n",
    "# 매칭 수행\n",
    "matches = matcher.match(des1, des2)\n",
    "\n",
    "# 매칭된 특징점들을 거리 기준으로 정렬\n",
    "matches = sorted(matches, key = lambda x:x.distance)\n",
    "\n",
    "# 매칭 결과 그리기\n",
    "matching_result = cv2.drawMatches(img1, kp1, img2, kp2, matches[:50], None, \\\n",
    "    flags=cv2.DRAW_MATCHES_FLAGS_NOT_DRAW_SINGLE_POINTS)\n",
    "\n",
    "cv2.imshow(\"Img1\", img1)\n",
    "cv2.imshow(\"Img2\", img2)\n",
    "cv2.imshow(\"Matching result\", matching_result)\n",
    "cv2.waitKey(0)\n",
    "cv2.destroyAllWindows()"
   ]
  },
  {
   "cell_type": "code",
   "execution_count": null,
   "metadata": {},
   "outputs": [],
   "source": []
  }
 ],
 "metadata": {
  "kernelspec": {
   "display_name": "IP2024",
   "language": "python",
   "name": "python3"
  },
  "language_info": {
   "codemirror_mode": {
    "name": "ipython",
    "version": 3
   },
   "file_extension": ".py",
   "mimetype": "text/x-python",
   "name": "python",
   "nbconvert_exporter": "python",
   "pygments_lexer": "ipython3",
   "version": "3.8.19"
  }
 },
 "nbformat": 4,
 "nbformat_minor": 2
}
