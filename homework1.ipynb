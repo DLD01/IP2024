{
 "cells": [
  {
   "cell_type": "markdown",
   "metadata": {},
   "source": [
    "#### Homework 1 ####"
   ]
  },
  {
   "cell_type": "markdown",
   "metadata": {},
   "source": [
    "#### (https://www.youtube.com/watch?v=BpUrxz3BVKg) ####"
   ]
  },
  {
   "cell_type": "code",
   "execution_count": 43,
   "metadata": {},
   "outputs": [],
   "source": [
    "import cv2\n",
    "import numpy as np\n",
    "img = cv2.imread('mountain.jpg')\n",
    "\n",
    "def nothing(x):\n",
    "    pass"
   ]
  },
  {
   "cell_type": "code",
   "execution_count": 44,
   "metadata": {},
   "outputs": [],
   "source": [
    "drawing = False # true if mouse is pressed\n",
    "ix,iy = -1,-1\n",
    "mouse_x, mouse_y=-1,-1\n",
    "# mouse callback function\n",
    "def draw_red_rect(event,x,y,flags,param):\n",
    "    global ix,iy,drawing, mouse_x, mouse_y\n",
    "    mouse_x=x\n",
    "    mouse_y=y\n",
    "    if event == cv2.EVENT_LBUTTONDOWN:\n",
    "        drawing = True\n",
    "        ix,iy = x,y\n",
    "    elif event == cv2.EVENT_MOUSEMOVE:\n",
    "        if drawing == True:\n",
    "            img[iy:y, ix:x, 2]=255\n",
    "    elif event == cv2.EVENT_LBUTTONUP:\n",
    "        drawing = False\n",
    "        img[iy:y, ix:x, 2]=255"
   ]
  },
  {
   "cell_type": "code",
   "execution_count": 45,
   "metadata": {},
   "outputs": [],
   "source": [
    "cv2.namedWindow('image')\n",
    "cv2.createTrackbar('Value', 'image', 0, 100, nothing)\n",
    "\n",
    "cv2.setMouseCallback('image',draw_red_rect)\n",
    "while(1):\n",
    "    value=cv2.getTrackbarPos('Value', 'image')\n",
    "    img_copy = img.copy()\n",
    "    \n",
    "    font = cv2.FONT_HERSHEY_SIMPLEX\n",
    "    cv2.putText(img_copy,f'Mouse Position: ({ix},{mouse_x}) - ({iy},{mouse_y}) Value: {value}',(30,30), font, 0.7,(255,255,255),1,cv2.LINE_AA)\n",
    "    cv2.imshow('image',img_copy)\n",
    "    \n",
    "    k = cv2.waitKey(1) & 0xFF\n",
    "    if k == 27:\n",
    "        break\n",
    "cv2.destroyAllWindows()"
   ]
  },
  {
   "cell_type": "code",
   "execution_count": null,
   "metadata": {},
   "outputs": [],
   "source": []
  }
 ],
 "metadata": {
  "kernelspec": {
   "display_name": "IP2024",
   "language": "python",
   "name": "python3"
  },
  "language_info": {
   "codemirror_mode": {
    "name": "ipython",
    "version": 3
   },
   "file_extension": ".py",
   "mimetype": "text/x-python",
   "name": "python",
   "nbconvert_exporter": "python",
   "pygments_lexer": "ipython3",
   "version": "3.8.19"
  }
 },
 "nbformat": 4,
 "nbformat_minor": 2
}
