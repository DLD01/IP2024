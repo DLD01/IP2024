{
 "cells": [
  {
   "cell_type": "markdown",
   "metadata": {},
   "source": [
    "#### Homework 2"
   ]
  },
  {
   "cell_type": "markdown",
   "metadata": {},
   "source": [
    "#### (https://www.youtube.com/watch?v=G90AsRac9O4)"
   ]
  },
  {
   "cell_type": "code",
   "execution_count": 22,
   "metadata": {},
   "outputs": [],
   "source": [
    "def nothing(x):\n",
    "    pass"
   ]
  },
  {
   "cell_type": "code",
   "execution_count": 23,
   "metadata": {},
   "outputs": [],
   "source": [
    "#https://colorpicker.me/#47ff7b hsv색상표\n",
    "import cv2\n",
    "import numpy as np\n",
    "cap = cv2.VideoCapture(\"tracking-DLD.avi\")\n",
    "cv2.namedWindow('image')\n",
    "cv2.createTrackbar('min','image',0,180,nothing)\n",
    "cv2.createTrackbar('max','image',0,180,nothing)\n",
    "#opencv에서는 360을 180으로 표현하는 듯?\n",
    "hue_min=40\n",
    "hue_max=80\n",
    "while(cap.isOpened()):\n",
    "    ret, frame = cap.read()\n",
    "    if ret==False:\n",
    "        break\n",
    "    hsv = cv2.cvtColor(frame, cv2.COLOR_BGR2HSV)\n",
    "\n",
    "    lower_blue = np.array([hue_min,50,50])\n",
    "    upper_blue = np.array([hue_max,255,255])\n",
    "\n",
    "    mask = cv2.inRange(hsv, lower_blue, upper_blue)\n",
    "\n",
    "    res = cv2.bitwise_and(frame, frame, mask= mask)\n",
    "    hue_min = cv2.getTrackbarPos('min','image')\n",
    "    hue_max = cv2.getTrackbarPos('max','image')\n",
    "\n",
    "    cv2.imshow('frame',frame)#original\n",
    "    cv2.imshow('mask',mask)#mask\n",
    "    cv2.imshow('image',res)#result\n",
    "    k = cv2.waitKey(50) & 0xFF #waitkey(num)값에 따라 속도 조정\n",
    "    if k == 27:\n",
    "        break\n",
    "cap.release()\n",
    "cv2.destroyAllWindows()\n"
   ]
  },
  {
   "cell_type": "code",
   "execution_count": null,
   "metadata": {},
   "outputs": [],
   "source": []
  }
 ],
 "metadata": {
  "kernelspec": {
   "display_name": "IP2024",
   "language": "python",
   "name": "python3"
  },
  "language_info": {
   "codemirror_mode": {
    "name": "ipython",
    "version": 3
   },
   "file_extension": ".py",
   "mimetype": "text/x-python",
   "name": "python",
   "nbconvert_exporter": "python",
   "pygments_lexer": "ipython3",
   "version": "3.8.19"
  }
 },
 "nbformat": 4,
 "nbformat_minor": 2
}
